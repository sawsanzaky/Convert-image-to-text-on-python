{
 "cells": [
  {
   "cell_type": "code",
   "execution_count": 1,
   "metadata": {},
   "outputs": [
    {
     "name": "stdout",
     "output_type": "stream",
     "text": [
      "Requirement already satisfied: pytesseract in c:\\users\\sawsan\\anaconda3\\lib\\site-packages (0.3.9)\n",
      "Requirement already satisfied: Pillow>=8.0.0 in c:\\users\\sawsan\\anaconda3\\lib\\site-packages (from pytesseract) (9.0.1)\n",
      "Requirement already satisfied: packaging>=21.3 in c:\\users\\sawsan\\anaconda3\\lib\\site-packages (from pytesseract) (21.3)\n",
      "Requirement already satisfied: pyparsing!=3.0.5,>=2.0.2 in c:\\users\\sawsan\\anaconda3\\lib\\site-packages (from packaging>=21.3->pytesseract) (2.4.6)\n",
      "Note: you may need to restart the kernel to use updated packages.\n"
     ]
    }
   ],
   "source": [
    "pip install  pytesseract\n"
   ]
  },
  {
   "cell_type": "code",
   "execution_count": 1,
   "metadata": {},
   "outputs": [
    {
     "name": "stdout",
     "output_type": "stream",
     "text": [
      "Text-to-Text, Text-to-Self, Text-to-World\n",
      "Rationale\n",
      "\n",
      "‘Reading comes live when we recognize how the ideas inthe text connect to our experiences and belief events\n",
      "happening inthe larger worl our understanding of history and our knowiedgeof other ext Text-toText,\n",
      "“Textto-Slé.Text-i>-Worl isa strategy that helps students develop the habit of making these connections. BY\n",
      "ving a purpose to students reading e fcusing students on paying lose attention o texto find connections\n",
      "this strategy helps students comprehend and make meaning ofthe ideas inthe text. This strategy canbe used\n",
      "‘when reading any text historical or trary ~and inca lg be used with other medi aswel inciing ims 1\n",
      "‘can be used atthe Beginning middle o end ofthe reading process—to get students engaged withatext. to help\n",
      "students understand the text more deeply ort evaluate students understanding the text\n",
      "\n",
      "Procedure\n",
      "‘eisai\n",
      "\n"
     ]
    }
   ],
   "source": [
    "# Import modules\n",
    "from PIL import Image\n",
    "import pytesseract\n",
    " \n",
    "# Include tesseract executable in your path\n",
    "pytesseract.pytesseract.tesseract_cmd = r\"C:\\Program Files\\Tesseract-OCR\\tesseract.exe\"\n",
    " \n",
    "# Create an image object of PIL library\n",
    "image = Image.open('OIP.jpg')\n",
    " \n",
    "# pass image into pytesseract module\n",
    "# pytesseract is trained in many languages\n",
    "image_to_text = pytesseract.image_to_string(image, lang='eng')\n",
    " \n",
    "# Print the text\n",
    "print(image_to_text)"
   ]
  },
  {
   "cell_type": "code",
   "execution_count": 2,
   "metadata": {},
   "outputs": [],
   "source": [
    "#4_5951548903760333576.PNG"
   ]
  },
  {
   "cell_type": "code",
   "execution_count": 3,
   "metadata": {},
   "outputs": [
    {
     "name": "stdout",
     "output_type": "stream",
     "text": [
      "scarce daring to breathe, and then, very faintly\n",
      "but unmistakable to her keen ears, came the\n",
      "stealthy crunching of twigs and grasses beneath\n",
      "\n",
      "padded feet.\n",
      "\n",
      "All about Momaya grew the giant trees of the\n",
      "tropical jungle, festooned with hanging vines\n",
      "and mosses. She seized upon the nearest and\n",
      "started to clamber, apelike, to the branches\n",
      "above. As she did so, there was a sudden rush of a\n",
      "great body behind her, a menacing roar that\n",
      "caused the earth to tremble, and something\n",
      "crashed into the very creepers to which she was\n",
      "\n",
      "clinging--but below her.\n",
      "\n",
      "Momaya drew herself to safety among the\n",
      "leafy branches and thanked the foresight which\n",
      "had prompted her to bring along the dried\n",
      "human ear which hung from a cord about her\n",
      "neck. She always had known that that ear was\n",
      "good medicine. It had been given her, when a\n",
      "\n",
      "girl, by the witch-doctor of her town tribe, and\n",
      "\n"
     ]
    }
   ],
   "source": [
    "# Import modules\n",
    "from PIL import Image\n",
    "import pytesseract\n",
    " \n",
    "# Include tesseract executable in your path\n",
    "pytesseract.pytesseract.tesseract_cmd = r\"C:\\Program Files\\Tesseract-OCR\\tesseract.exe\"\n",
    " \n",
    "# Create an image object of PIL library\n",
    "image = Image.open('4_5951548903760333576.PNG')\n",
    " \n",
    "# pass image into pytesseract module\n",
    "# pytesseract is trained in many languages\n",
    "image_to_text = pytesseract.image_to_string(image, lang='eng')\n",
    " \n",
    "# Print the text\n",
    "print(image_to_text)"
   ]
  },
  {
   "cell_type": "code",
   "execution_count": 4,
   "metadata": {},
   "outputs": [],
   "source": [
    "#Screenshot 2022-04-10 at 11.29.59.png"
   ]
  },
  {
   "cell_type": "code",
   "execution_count": 7,
   "metadata": {},
   "outputs": [
    {
     "name": "stdout",
     "output_type": "stream",
     "text": [
      "‘Month oF\n",
      "year\n",
      "\n",
      "1oig1 | ag14s | 19152 | sox | 2017 | roi | ror | r920 | soz | 1922 | 1003 | ree | 1995\n",
      "\n",
      "1926 | 1927 | 1928\n",
      "\n",
      "l4s7,5¢02|486.0548|484.7209|476. s000|476, «442/476. 4309|476, s800|367.7930|374. 1970422. 4780 405. 4511|425. soe]. 1673\n",
      "Lago: 1364 485.0567 482.4063 476.7120]476. 4341476. 44031476. 4860[238. 1000|287.8800|436. 2000 460’ 0809 420. 7709|477.2418|\n",
      "1488. 1856 488. 4804| 480.3353] 476, 0537 476. 4375|476.4428]4714700{372. 5800|301. 1100437. 5719|460.5693|420, 0693 [477.6250]\n",
      "\\s87: 2067 487-1681 |470. 6707 477, 02251476. 4910]476. 4510]466. 1700|303. 1000|302. e200|¢41. 3368] 465.5468 495.1281 |479.5208|\n",
      "lege: 7510 488. 52301470. aan0|476.5288|476. 44231476, 4601| 466, 7600|s84. 77001307. 5980|444”6119|462. 5677486. 0808 485.4720)\n",
      "{4sz- 1950 88 0442|477-og20 476. 4856|476. 4375|476. 4800|462. 110/304: 0780]578. 1106|445. 1862/464. 4681 |431-0880| 486.0415,\n",
      "lsg7- 08a 404: 1471477. 1623|476,4075|476. 4300] 476. 4495|449. 8700|386.4700|3¢3.2120]444. 6308| 458. 3385]437_0380]485, 0004\n",
      "{aso 8144 o2e. 4511470. 0180 476. 4760|476. 4380 |476.6495]427. 2000|362:1000]365, 3632|446. 4678456. 0338|480. 9458 485.600)\n",
      "(485, 2060 409. 5400|468.40aa]476,4450|476. 4375476. 5848] 417, 0000)351.0280|872. 4000|443. 0606454. 2217 [446.0536 484.6464)\n",
      "[485.0740 [408.3702] 467-0425 476.4375 |476.4380)476. 500s] 418. 4000|347-5100|s87 2997]443. nasal 450.3745 448, 7004 484.7800)\n",
      "Ides. 7511 |480.5516|467_6135|476.4375]476.4375|476. 87001405. 8200|2437230/307. 0196447. 9021 438.2189] 460. 9687 484.5861\n",
      "l4ns, 9208 487. 5048|479, 7608) 476. 4376)476.4980]476.5240|381. 2300|340,2350|415. 6108460. 0800|436, 0148 409.5838 484.0838,\n",
      "\n",
      "486.8017 |402. 0646]475, 6061 476. 6011)476. 4430] 476.6051] 442. s800|366. 4270}384. 2023 |442.0165|457.4825|141.7064|482. 8044)\n",
      "\n",
      "85. 7360|485. 26¢8|487.5330\n",
      "486, 23634850282] 487' 4840\n",
      "486.0825|485, 4025]487_9044\n",
      "485, 2185 485.6546 488, 2045\n",
      "486.1544 485.7020 488.1504\n",
      "486, 6006 485, 6088]488: 0202\n",
      "480, 3450485. 5056 486.9571\n",
      "485.8608] 486, 0735 485.3525\n",
      "485.4168] 486. 3528)485.0516\n",
      "485.0328] 486. 0676]484: 9500\n",
      "‘484. 8758]487-4012]484. 9213\n",
      "4485. 12501488. 2542]485. 2462\n",
      "\n",
      "485, 8236] 480.1024]496, 6223\n",
      "\n",
      "\n"
     ]
    }
   ],
   "source": [
    "# Import modules\n",
    "from PIL import Image\n",
    "import pytesseract\n",
    " \n",
    "# Include tesseract executable in your path\n",
    "pytesseract.pytesseract.tesseract_cmd = r\"C:\\Program Files\\Tesseract-OCR\\tesseract.exe\"\n",
    " \n",
    "# Create an image object of PIL library\n",
    "image = Image.open('Screenshot 2022-04-10 at 11.29.59.png')\n",
    " \n",
    "# pass image into pytesseract module\n",
    "# pytesseract is trained in many languages\n",
    "image_to_text = pytesseract.image_to_string(image, lang='eng')\n",
    " \n",
    "# Print the text\n",
    "print(image_to_text)"
   ]
  },
  {
   "cell_type": "code",
   "execution_count": null,
   "metadata": {},
   "outputs": [],
   "source": []
  }
 ],
 "metadata": {
  "kernelspec": {
   "display_name": "Python 3",
   "language": "python",
   "name": "python3"
  },
  "language_info": {
   "codemirror_mode": {
    "name": "ipython",
    "version": 3
   },
   "file_extension": ".py",
   "mimetype": "text/x-python",
   "name": "python",
   "nbconvert_exporter": "python",
   "pygments_lexer": "ipython3",
   "version": "3.7.6"
  }
 },
 "nbformat": 4,
 "nbformat_minor": 4
}
